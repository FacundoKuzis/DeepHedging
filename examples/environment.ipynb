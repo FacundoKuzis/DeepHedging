{
 "cells": [
  {
   "cell_type": "code",
   "execution_count": 2,
   "metadata": {},
   "outputs": [],
   "source": [
    "import tensorflow as tf"
   ]
  },
  {
   "cell_type": "code",
   "execution_count": 1,
   "metadata": {},
   "outputs": [],
   "source": [
    "from DeepHedging.Agents import SimpleAgent\n",
    "from DeepHedging.HedgingInstruments import GBMStock\n",
    "from DeepHedging.ContingentClaims import EuropeanCall\n",
    "from DeepHedging.CostFunctions import ProportionalCost\n",
    "from DeepHedging.RiskMeasures import MSE\n",
    "from DeepHedging.Environments import Environment"
   ]
  },
  {
   "cell_type": "code",
   "execution_count": 3,
   "metadata": {},
   "outputs": [
    {
     "name": "stderr",
     "output_type": "stream",
     "text": [
      "c:\\Users\\facun\\Downloads\\Tesis\\TesisKuzis\\env\\Lib\\site-packages\\keras\\src\\layers\\core\\input_layer.py:26: UserWarning: Argument `input_shape` is deprecated. Use `shape` instead.\n",
      "  warnings.warn(\n"
     ]
    },
    {
     "name": "stdout",
     "output_type": "stream",
     "text": [
      "Starting training and evaluation...\n"
     ]
    },
    {
     "ename": "TypeError",
     "evalue": "SimpleAgent.train_batch() takes 4 positional arguments but 5 were given",
     "output_type": "error",
     "traceback": [
      "\u001b[1;31m---------------------------------------------------------------------------\u001b[0m",
      "\u001b[1;31mTypeError\u001b[0m                                 Traceback (most recent call last)",
      "Cell \u001b[1;32mIn[3], line 19\u001b[0m\n\u001b[0;32m      5\u001b[0m risk_measure \u001b[38;5;241m=\u001b[39m MSE()\n\u001b[0;32m      7\u001b[0m env \u001b[38;5;241m=\u001b[39m Environment(\n\u001b[0;32m      8\u001b[0m     agent\u001b[38;5;241m=\u001b[39magent,\n\u001b[0;32m      9\u001b[0m     instrument\u001b[38;5;241m=\u001b[39minstrument,\n\u001b[1;32m   (...)\u001b[0m\n\u001b[0;32m     16\u001b[0m     optimizer\u001b[38;5;241m=\u001b[39mtf\u001b[38;5;241m.\u001b[39mkeras\u001b[38;5;241m.\u001b[39moptimizers\u001b[38;5;241m.\u001b[39mAdam\n\u001b[0;32m     17\u001b[0m )\n\u001b[1;32m---> 19\u001b[0m \u001b[43menv\u001b[49m\u001b[38;5;241;43m.\u001b[39;49m\u001b[43mrun\u001b[49m\u001b[43m(\u001b[49m\u001b[43mtrain_paths\u001b[49m\u001b[38;5;241;43m=\u001b[39;49m\u001b[38;5;241;43m8000\u001b[39;49m\u001b[43m,\u001b[49m\u001b[43m \u001b[49m\u001b[43mval_paths\u001b[49m\u001b[38;5;241;43m=\u001b[39;49m\u001b[38;5;241;43m2000\u001b[39;49m\u001b[43m)\u001b[49m\n",
      "File \u001b[1;32m~\\Downloads\\Tesis\\TesisKuzis\\src\\DeepHedging\\Environments\\environment.py:89\u001b[0m, in \u001b[0;36mEnvironment.run\u001b[1;34m(self, train_paths, val_paths)\u001b[0m\n\u001b[0;32m     87\u001b[0m \u001b[38;5;28;01mdef\u001b[39;00m \u001b[38;5;21mrun\u001b[39m(\u001b[38;5;28mself\u001b[39m, train_paths, val_paths):\n\u001b[0;32m     88\u001b[0m     \u001b[38;5;28mprint\u001b[39m(\u001b[38;5;124m\"\u001b[39m\u001b[38;5;124mStarting training and evaluation...\u001b[39m\u001b[38;5;124m\"\u001b[39m)\n\u001b[1;32m---> 89\u001b[0m     final_loss, avg_pnl, pnl_std \u001b[38;5;241m=\u001b[39m \u001b[38;5;28;43mself\u001b[39;49m\u001b[38;5;241;43m.\u001b[39;49m\u001b[43mtrain_and_evaluate\u001b[49m\u001b[43m(\u001b[49m\u001b[43mtrain_paths\u001b[49m\u001b[43m,\u001b[49m\u001b[43m \u001b[49m\u001b[43mval_paths\u001b[49m\u001b[43m)\u001b[49m\n\u001b[0;32m     91\u001b[0m     \u001b[38;5;28mprint\u001b[39m(\u001b[38;5;124m\"\u001b[39m\u001b[38;5;130;01m\\n\u001b[39;00m\u001b[38;5;124mTraining completed. Displaying loss plot...\u001b[39m\u001b[38;5;124m\"\u001b[39m)\n\u001b[0;32m     92\u001b[0m     \u001b[38;5;28mself\u001b[39m\u001b[38;5;241m.\u001b[39mplot_losses()\n",
      "File \u001b[1;32m~\\Downloads\\Tesis\\TesisKuzis\\src\\DeepHedging\\Environments\\environment.py:56\u001b[0m, in \u001b[0;36mEnvironment.train_and_evaluate\u001b[1;34m(self, train_paths, val_paths)\u001b[0m\n\u001b[0;32m     54\u001b[0m \u001b[38;5;28;01mfor\u001b[39;00m i \u001b[38;5;129;01min\u001b[39;00m \u001b[38;5;28mrange\u001b[39m(\u001b[38;5;241m0\u001b[39m, \u001b[38;5;28mlen\u001b[39m(train_data), \u001b[38;5;28mself\u001b[39m\u001b[38;5;241m.\u001b[39mbatch_size):\n\u001b[0;32m     55\u001b[0m     batch_paths \u001b[38;5;241m=\u001b[39m train_data[i:i\u001b[38;5;241m+\u001b[39m\u001b[38;5;28mself\u001b[39m\u001b[38;5;241m.\u001b[39mbatch_size]\n\u001b[1;32m---> 56\u001b[0m     loss \u001b[38;5;241m=\u001b[39m \u001b[38;5;28;43mself\u001b[39;49m\u001b[38;5;241;43m.\u001b[39;49m\u001b[43magent\u001b[49m\u001b[38;5;241;43m.\u001b[39;49m\u001b[43mtrain_batch\u001b[49m\u001b[43m(\u001b[49m\u001b[43mbatch_paths\u001b[49m\u001b[43m[\u001b[49m\u001b[43m:\u001b[49m\u001b[43m,\u001b[49m\u001b[43m \u001b[49m\u001b[43m:\u001b[49m\u001b[38;5;241;43m-\u001b[39;49m\u001b[38;5;241;43m1\u001b[39;49m\u001b[43m]\u001b[49m\u001b[43m,\u001b[49m\u001b[43m \u001b[49m\u001b[43mT_minus_t\u001b[49m\u001b[43m,\u001b[49m\u001b[43m \u001b[49m\u001b[38;5;28;43mself\u001b[39;49m\u001b[38;5;241;43m.\u001b[39;49m\u001b[43moptimizer\u001b[49m\u001b[43m,\u001b[49m\u001b[43m \u001b[49m\u001b[38;5;28;43mself\u001b[39;49m\u001b[38;5;241;43m.\u001b[39;49m\u001b[43mloss_function\u001b[49m\u001b[43m)\u001b[49m\n\u001b[0;32m     57\u001b[0m     epoch_losses\u001b[38;5;241m.\u001b[39mappend(loss\u001b[38;5;241m.\u001b[39mnumpy())\n\u001b[0;32m     59\u001b[0m avg_train_loss \u001b[38;5;241m=\u001b[39m np\u001b[38;5;241m.\u001b[39mmean(epoch_losses)\n",
      "\u001b[1;31mTypeError\u001b[0m: SimpleAgent.train_batch() takes 4 positional arguments but 5 were given"
     ]
    }
   ],
   "source": [
    "agent = SimpleAgent(input_shape=(1,), output_shape=1)\n",
    "instrument = GBMStock(S0=100, T=1, N=252, r=0.05, sigma=0.2)\n",
    "contingent_claim = EuropeanCall(strike=100)\n",
    "cost_function = ProportionalCost(proportion=0.01)\n",
    "risk_measure = MSE()\n",
    "\n",
    "env = Environment(\n",
    "    agent=agent,\n",
    "    instrument=instrument,\n",
    "    contingent_claim=contingent_claim,\n",
    "    cost_function=cost_function,\n",
    "    risk_measure=risk_measure,\n",
    "    n_epochs=100,\n",
    "    batch_size=64,\n",
    "    learning_rate=0.001,\n",
    "    optimizer=tf.keras.optimizers.Adam\n",
    ")\n",
    "\n",
    "env.run(train_paths=8000, val_paths=2000)"
   ]
  }
 ],
 "metadata": {
  "kernelspec": {
   "display_name": "env",
   "language": "python",
   "name": "python3"
  },
  "language_info": {
   "codemirror_mode": {
    "name": "ipython",
    "version": 3
   },
   "file_extension": ".py",
   "mimetype": "text/x-python",
   "name": "python",
   "nbconvert_exporter": "python",
   "pygments_lexer": "ipython3",
   "version": "3.11.5"
  }
 },
 "nbformat": 4,
 "nbformat_minor": 2
}
