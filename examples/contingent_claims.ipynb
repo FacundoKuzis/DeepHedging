{
 "cells": [
  {
   "cell_type": "code",
   "execution_count": 1,
   "metadata": {},
   "outputs": [],
   "source": [
    "from DeepHedging.HedgingInstruments import GBMStock\n",
    "from DeepHedging.ContingentClaims import EuropeanCall, EuropeanPut"
   ]
  },
  {
   "cell_type": "code",
   "execution_count": 2,
   "metadata": {},
   "outputs": [],
   "source": [
    "# Parameters\n",
    "S0 = 100.0       # Initial stock price\n",
    "T = 1.0          # Time horizon (1 year)\n",
    "N = 252          # Number of time steps (daily steps for 1 year)\n",
    "r = 0.05         # Risk-free rate\n",
    "sigma = 0.2      # Volatility\n",
    "strike = 100.0   # Strike price\n",
    "\n",
    "# Instantiate the GBMStock object\n",
    "gbm_stock = GBMStock(S0=S0, T=T, N=N, r=r, sigma=sigma)\n",
    "\n",
    "# Generate paths (e.g., 10,000 paths)\n",
    "num_paths = 10000\n",
    "paths = gbm_stock.generate_paths(num_paths=num_paths)\n"
   ]
  },
  {
   "cell_type": "code",
   "execution_count": 5,
   "metadata": {},
   "outputs": [
    {
     "name": "stdout",
     "output_type": "stream",
     "text": [
      "Call Payoff Shape: (10000,)\n",
      "Put Payoff Shape: (10000,)\n"
     ]
    }
   ],
   "source": [
    "# Instantiate European Call and Put options\n",
    "european_call = EuropeanCall(strike=strike, amount = 1.0)\n",
    "european_put = EuropeanPut(strike=strike, amount = 1.0)\n",
    "\n",
    "# Calculate the payoffs for each option\n",
    "call_payoff = european_call.calculate_payoff(paths)\n",
    "put_payoff = european_put.calculate_payoff(paths)\n",
    "\n",
    "# Display the results\n",
    "print(\"Call Payoff Shape:\", call_payoff.shape)\n",
    "print(\"Put Payoff Shape:\", put_payoff.shape)"
   ]
  },
  {
   "cell_type": "code",
   "execution_count": 6,
   "metadata": {},
   "outputs": [
    {
     "data": {
      "text/plain": [
       "<tf.Tensor: shape=(10000,), dtype=float32, numpy=\n",
       "array([44.551224,  0.      ,  0.      , ..., 70.94278 , 12.990135,\n",
       "       28.537003], dtype=float32)>"
      ]
     },
     "execution_count": 6,
     "metadata": {},
     "output_type": "execute_result"
    }
   ],
   "source": [
    "call_payoff"
   ]
  },
  {
   "cell_type": "code",
   "execution_count": 8,
   "metadata": {},
   "outputs": [
    {
     "name": "stdout",
     "output_type": "stream",
     "text": [
      "Call Payoff with Amount -1.0 Shape: (10000,)\n",
      "Put Payoff with Amount -1.0 Shape: (10000,)\n"
     ]
    }
   ],
   "source": [
    "european_call_short = EuropeanCall(strike=strike, amount= -1.0)\n",
    "european_put_short = EuropeanPut(strike=strike, amount= -1.0)\n",
    "\n",
    "call_payoff_short = european_call_short.calculate_payoff(paths)\n",
    "put_payoff_short = european_put_short.calculate_payoff(paths)\n",
    "\n",
    "print(\"Call Payoff with Amount -1.0 Shape:\", call_payoff_short.shape)\n",
    "print(\"Put Payoff with Amount -1.0 Shape:\", put_payoff_short.shape)\n"
   ]
  },
  {
   "cell_type": "code",
   "execution_count": 10,
   "metadata": {},
   "outputs": [
    {
     "data": {
      "text/plain": [
       "<tf.Tensor: shape=(10000,), dtype=float32, numpy=\n",
       "array([ -0.      , -11.803688, -21.43135 , ...,  -0.      ,  -0.      ,\n",
       "        -0.      ], dtype=float32)>"
      ]
     },
     "execution_count": 10,
     "metadata": {},
     "output_type": "execute_result"
    }
   ],
   "source": [
    "put_payoff_short"
   ]
  }
 ],
 "metadata": {
  "kernelspec": {
   "display_name": "env",
   "language": "python",
   "name": "python3"
  },
  "language_info": {
   "codemirror_mode": {
    "name": "ipython",
    "version": 3
   },
   "file_extension": ".py",
   "mimetype": "text/x-python",
   "name": "python",
   "nbconvert_exporter": "python",
   "pygments_lexer": "ipython3",
   "version": "3.11.5"
  }
 },
 "nbformat": 4,
 "nbformat_minor": 2
}
