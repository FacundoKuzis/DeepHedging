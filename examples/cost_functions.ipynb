{
 "cells": [
  {
   "cell_type": "code",
   "execution_count": 3,
   "metadata": {},
   "outputs": [],
   "source": [
    "from DeepHedging.HedgingInstruments import GBMStock\n",
    "from DeepHedging.CostFunctions import ProportionalCost\n",
    "import tensorflow as tf\n"
   ]
  },
  {
   "cell_type": "code",
   "execution_count": 4,
   "metadata": {},
   "outputs": [
    {
     "name": "stdout",
     "output_type": "stream",
     "text": [
      "Transaction Costs Shape: (10000, 252)\n",
      "Sample Transaction Costs: [[0.6941588  0.7739097  0.13742912 ... 1.002849   0.13391729 1.0037621 ]\n",
      " [0.9337329  0.10534301 0.8736474  ... 0.59667027 0.67154986 0.37157637]\n",
      " [0.414088   0.31448242 0.7700505  ... 0.7065162  0.41264638 0.88853556]\n",
      " [0.33943987 0.8714967  0.54467636 ... 1.1096473  0.46892303 0.75206304]\n",
      " [0.81983376 0.24713124 0.26412922 ... 1.094026   1.2205642  0.12964423]]\n"
     ]
    }
   ],
   "source": [
    "# Parameters\n",
    "S0 = 100.0       # Initial stock price\n",
    "T = 1.0          # Time horizon (1 year)\n",
    "N = 252          # Number of time steps (daily steps for 1 year)\n",
    "r = 0.05         # Risk-free rate\n",
    "sigma = 0.2      # Volatility\n",
    "proportion = 0.01  # Proportional cost rate (1%)\n",
    "\n",
    "# Instantiate the GBMStock object\n",
    "gbm_stock = GBMStock(S0=S0, T=T, N=N, r=r, sigma=sigma)\n",
    "\n",
    "# Generate paths (e.g., 10,000 paths)\n",
    "num_paths = 10000\n",
    "paths = gbm_stock.generate_paths(num_paths=num_paths)\n",
    "\n",
    "# Create a random actions tensor (for example purposes)\n",
    "actions = tf.random.uniform(shape=(num_paths, N), minval=-1, maxval=1)\n",
    "\n",
    "# Instantiate the ProportionalCost object\n",
    "proportional_cost = ProportionalCost(proportion=proportion)\n",
    "\n",
    "# Calculate the proportional transaction costs\n",
    "transaction_costs = proportional_cost.calculate(actions, paths)\n",
    "\n",
    "# Display the results\n",
    "print(\"Transaction Costs Shape:\", transaction_costs.shape)\n",
    "print(\"Sample Transaction Costs:\", transaction_costs.numpy()[:5])\n"
   ]
  }
 ],
 "metadata": {
  "kernelspec": {
   "display_name": "env",
   "language": "python",
   "name": "python3"
  },
  "language_info": {
   "codemirror_mode": {
    "name": "ipython",
    "version": 3
   },
   "file_extension": ".py",
   "mimetype": "text/x-python",
   "name": "python",
   "nbconvert_exporter": "python",
   "pygments_lexer": "ipython3",
   "version": "3.11.5"
  }
 },
 "nbformat": 4,
 "nbformat_minor": 2
}
