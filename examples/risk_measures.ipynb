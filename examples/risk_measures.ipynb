{
 "cells": [
  {
   "cell_type": "code",
   "execution_count": 1,
   "metadata": {},
   "outputs": [],
   "source": [
    "from DeepHedging.RiskMeasures import VaR, CVaR, MSE, SMSE\n",
    "import tensorflow as tf"
   ]
  },
  {
   "cell_type": "code",
   "execution_count": 2,
   "metadata": {},
   "outputs": [],
   "source": [
    "pnl = tf.random.normal(shape=(10000,))"
   ]
  },
  {
   "cell_type": "code",
   "execution_count": 3,
   "metadata": {},
   "outputs": [
    {
     "name": "stdout",
     "output_type": "stream",
     "text": [
      "Value at Risk (VaR): 1.6606225\n",
      "Conditional Value at Risk (CVaR): 2.0844343\n",
      "Mean Squared Error (MSE): 1.0028952\n",
      "Semi Mean Squared Error (SMSE): 1.0132121\n"
     ]
    }
   ],
   "source": [
    "# Instantiate the risk measure objects\n",
    "var_measure = VaR(alpha=0.95)\n",
    "cvar_measure = CVaR(alpha=0.95)\n",
    "mse_measure = MSE()\n",
    "smse_measure = SMSE()\n",
    "\n",
    "# Calculate the risk measures\n",
    "var_value = var_measure.calculate(pnl)\n",
    "cvar_value = cvar_measure.calculate(pnl)\n",
    "mse_value = mse_measure.calculate(pnl)\n",
    "smse_value = smse_measure.calculate(pnl)\n",
    "\n",
    "# Print the calculated risk measures\n",
    "print(\"Value at Risk (VaR):\", var_value.numpy())\n",
    "print(\"Conditional Value at Risk (CVaR):\", cvar_value.numpy())\n",
    "print(\"Mean Squared Error (MSE):\", mse_value.numpy())\n",
    "print(\"Semi Mean Squared Error (SMSE):\", smse_value.numpy())\n"
   ]
  }
 ],
 "metadata": {
  "kernelspec": {
   "display_name": "env",
   "language": "python",
   "name": "python3"
  },
  "language_info": {
   "codemirror_mode": {
    "name": "ipython",
    "version": 3
   },
   "file_extension": ".py",
   "mimetype": "text/x-python",
   "name": "python",
   "nbconvert_exporter": "python",
   "pygments_lexer": "ipython3",
   "version": "3.11.5"
  }
 },
 "nbformat": 4,
 "nbformat_minor": 2
}
