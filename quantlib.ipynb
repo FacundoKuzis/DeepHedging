{
 "cells": [
  {
   "cell_type": "code",
   "execution_count": 2,
   "metadata": {},
   "outputs": [
    {
     "name": "stdout",
     "output_type": "stream",
     "text": [
      "Collecting QuantLib-Python\n",
      "  Obtaining dependency information for QuantLib-Python from https://files.pythonhosted.org/packages/7e/a9/4c6fac9c3c9b1625ab573531bbe9666d2f7cd6bc0a5eeb1f5792b947d9b2/QuantLib_Python-1.18-py2.py3-none-any.whl.metadata\n",
      "  Downloading QuantLib_Python-1.18-py2.py3-none-any.whl.metadata (1.0 kB)\n",
      "Collecting QuantLib (from QuantLib-Python)\n",
      "  Obtaining dependency information for QuantLib from https://files.pythonhosted.org/packages/eb/96/58ad2e21aab7409fca35cbf9d100bd1a9a02a329589e173462884be5ae58/QuantLib-1.35-cp38-abi3-win_amd64.whl.metadata\n",
      "  Downloading QuantLib-1.35-cp38-abi3-win_amd64.whl.metadata (1.1 kB)\n",
      "Downloading QuantLib_Python-1.18-py2.py3-none-any.whl (1.4 kB)\n",
      "Downloading QuantLib-1.35-cp38-abi3-win_amd64.whl (12.5 MB)\n",
      "   ---------------------------------------- 0.0/12.5 MB ? eta -:--:--\n",
      "   ---------------------------------------- 0.0/12.5 MB ? eta -:--:--\n",
      "   ---------------------------------------- 0.0/12.5 MB 217.9 kB/s eta 0:00:58\n",
      "   ---------------------------------------- 0.0/12.5 MB 326.8 kB/s eta 0:00:39\n",
      "   ---------------------------------------- 0.1/12.5 MB 653.6 kB/s eta 0:00:20\n",
      "   - -------------------------------------- 0.3/12.5 MB 1.6 MB/s eta 0:00:08\n",
      "   - -------------------------------------- 0.5/12.5 MB 2.4 MB/s eta 0:00:05\n",
      "   - -------------------------------------- 0.6/12.5 MB 2.2 MB/s eta 0:00:06\n",
      "   --- ------------------------------------ 1.0/12.5 MB 2.9 MB/s eta 0:00:05\n",
      "   --- ------------------------------------ 1.2/12.5 MB 3.1 MB/s eta 0:00:04\n",
      "   ---- ----------------------------------- 1.5/12.5 MB 3.5 MB/s eta 0:00:04\n",
      "   ----- ---------------------------------- 1.8/12.5 MB 3.8 MB/s eta 0:00:03\n",
      "   ------ --------------------------------- 2.1/12.5 MB 4.0 MB/s eta 0:00:03\n",
      "   ------- -------------------------------- 2.3/12.5 MB 4.1 MB/s eta 0:00:03\n",
      "   -------- ------------------------------- 2.6/12.5 MB 4.3 MB/s eta 0:00:03\n",
      "   --------- ------------------------------ 3.0/12.5 MB 4.6 MB/s eta 0:00:03\n",
      "   ---------- ----------------------------- 3.4/12.5 MB 4.9 MB/s eta 0:00:02\n",
      "   ------------ --------------------------- 3.8/12.5 MB 5.0 MB/s eta 0:00:02\n",
      "   ------------- -------------------------- 4.1/12.5 MB 5.2 MB/s eta 0:00:02\n",
      "   -------------- ------------------------- 4.5/12.5 MB 5.3 MB/s eta 0:00:02\n",
      "   --------------- ------------------------ 4.8/12.5 MB 5.4 MB/s eta 0:00:02\n",
      "   ---------------- ----------------------- 5.3/12.5 MB 5.6 MB/s eta 0:00:02\n",
      "   ----------------- ---------------------- 5.6/12.5 MB 5.7 MB/s eta 0:00:02\n",
      "   ------------------- -------------------- 6.0/12.5 MB 5.9 MB/s eta 0:00:02\n",
      "   -------------------- ------------------- 6.3/12.5 MB 5.8 MB/s eta 0:00:02\n",
      "   --------------------- ------------------ 6.7/12.5 MB 5.9 MB/s eta 0:00:01\n",
      "   ---------------------- ----------------- 7.1/12.5 MB 6.1 MB/s eta 0:00:01\n",
      "   ------------------------ --------------- 7.5/12.5 MB 6.2 MB/s eta 0:00:01\n",
      "   ------------------------- -------------- 7.9/12.5 MB 6.2 MB/s eta 0:00:01\n",
      "   -------------------------- ------------- 8.3/12.5 MB 6.3 MB/s eta 0:00:01\n",
      "   --------------------------- ------------ 8.6/12.5 MB 6.3 MB/s eta 0:00:01\n",
      "   ---------------------------- ----------- 9.0/12.5 MB 6.4 MB/s eta 0:00:01\n",
      "   ----------------------------- ---------- 9.4/12.5 MB 6.4 MB/s eta 0:00:01\n",
      "   ------------------------------ --------- 9.7/12.5 MB 6.5 MB/s eta 0:00:01\n",
      "   -------------------------------- ------- 10.1/12.5 MB 6.5 MB/s eta 0:00:01\n",
      "   --------------------------------- ------ 10.4/12.5 MB 7.3 MB/s eta 0:00:01\n",
      "   ---------------------------------- ----- 10.7/12.5 MB 7.3 MB/s eta 0:00:01\n",
      "   ---------------------------------- ----- 10.7/12.5 MB 7.3 MB/s eta 0:00:01\n",
      "   ---------------------------------- ----- 10.7/12.5 MB 7.3 MB/s eta 0:00:01\n",
      "   ----------------------------------- ---- 11.1/12.5 MB 7.0 MB/s eta 0:00:01\n",
      "   ---------------------------------------  12.3/12.5 MB 8.0 MB/s eta 0:00:01\n",
      "   ---------------------------------------  12.5/12.5 MB 8.1 MB/s eta 0:00:01\n",
      "   ---------------------------------------  12.5/12.5 MB 8.1 MB/s eta 0:00:01\n",
      "   ---------------------------------------- 12.5/12.5 MB 7.4 MB/s eta 0:00:00\n",
      "Installing collected packages: QuantLib, QuantLib-Python\n",
      "Successfully installed QuantLib-1.35 QuantLib-Python-1.18\n",
      "Note: you may need to restart the kernel to use updated packages.\n"
     ]
    },
    {
     "name": "stderr",
     "output_type": "stream",
     "text": [
      "'DOSKEY' is not recognized as an internal or external command,\n",
      "operable program or batch file.\n",
      "\n",
      "[notice] A new release of pip is available: 23.2.1 -> 24.2\n",
      "[notice] To update, run: python.exe -m pip install --upgrade pip\n"
     ]
    }
   ],
   "source": [
    "pip install QuantLib-Python"
   ]
  },
  {
   "cell_type": "code",
   "execution_count": 3,
   "metadata": {},
   "outputs": [],
   "source": [
    "import QuantLib as ql\n"
   ]
  },
  {
   "cell_type": "code",
   "execution_count": 14,
   "metadata": {},
   "outputs": [
    {
     "name": "stdout",
     "output_type": "stream",
     "text": [
      "The price of the Asian geometric call option is: 2.1182\n"
     ]
    }
   ],
   "source": [
    "\n",
    "# Market data\n",
    "spot_price = 100.0  # S0\n",
    "strike_price = 100.0  # strike\n",
    "volatility = 0.2  # sigma\n",
    "risk_free_rate = 0.05  # r\n",
    "dividend_rate = 0.0  # Assuming no dividends\n",
    "\n",
    "# Option data\n",
    "maturity_in_days = 63  # N\n",
    "calendar = ql.NullCalendar()\n",
    "day_count = ql.Actual365Fixed()\n",
    "settlement_date = ql.Date.todaysDate()\n",
    "ql.Settings.instance().evaluationDate = settlement_date\n",
    "maturity_date = settlement_date + int(365 * (64/365))  # T in days\n",
    "\n",
    "option_type = ql.Option.Call\n",
    "\n",
    "# Fixing dates\n",
    "fixing_dates = [settlement_date + i for i in range(1, maturity_in_days + 1)]\n",
    "\n",
    "# Payoff and exercise\n",
    "payoff = ql.PlainVanillaPayoff(option_type, strike_price)\n",
    "exercise = ql.EuropeanExercise(maturity_date)\n",
    "\n",
    "# Average type\n",
    "average_type = ql.Average.Geometric\n",
    "\n",
    "# Asian option\n",
    "option = ql.DiscreteAveragingAsianOption(\n",
    "    average_type,\n",
    "    1.0,  # running accumulator for geometric average\n",
    "    0,    # past fixings\n",
    "    fixing_dates,\n",
    "    payoff,\n",
    "    exercise\n",
    ")\n",
    "\n",
    "# Yield and volatility curves\n",
    "spot_handle = ql.QuoteHandle(ql.SimpleQuote(spot_price))\n",
    "flat_ts = ql.YieldTermStructureHandle(\n",
    "    ql.FlatForward(settlement_date, risk_free_rate, day_count))\n",
    "dividend_ts = ql.YieldTermStructureHandle(\n",
    "    ql.FlatForward(settlement_date, dividend_rate, day_count))\n",
    "vol_ts = ql.BlackVolTermStructureHandle(\n",
    "    ql.BlackConstantVol(settlement_date, calendar, volatility, day_count))\n",
    "\n",
    "# Black-Scholes-Merton process\n",
    "bsm_process = ql.BlackScholesMertonProcess(\n",
    "    spot_handle, dividend_ts, flat_ts, vol_ts)\n",
    "\n",
    "# Pricing engine\n",
    "engine = ql.AnalyticDiscreteGeometricAveragePriceAsianEngine(bsm_process)\n",
    "option.setPricingEngine(engine)\n",
    "\n",
    "# Calculate and print the option price\n",
    "option_price = option.NPV()\n",
    "print(f\"The price of the Asian geometric call option is: {option_price:.4f}\")\n"
   ]
  },
  {
   "cell_type": "code",
   "execution_count": 18,
   "metadata": {},
   "outputs": [
    {
     "data": {
      "text/plain": [
       "0.5382336079671503"
      ]
     },
     "execution_count": 18,
     "metadata": {},
     "output_type": "execute_result"
    }
   ],
   "source": [
    "option.delta()"
   ]
  },
  {
   "cell_type": "code",
   "execution_count": 15,
   "metadata": {},
   "outputs": [
    {
     "name": "stdout",
     "output_type": "stream",
     "text": [
      "p: tf.Tensor(2.1107864, shape=(), dtype=float32)\n"
     ]
    }
   ],
   "source": [
    "from DeepHedging.Agents import AsianDeltaHedgingAgent\n",
    "from DeepHedging.HedgingInstruments import GBMStock\n",
    "from DeepHedging.ContingentClaims import AsianGeometricCall\n",
    "from DeepHedging.CostFunctions import ProportionalCost\n",
    "from DeepHedging.RiskMeasures import CVaR\n",
    "\n",
    "T = 64/365\n",
    "N = 64\n",
    "r = 0.05\n",
    "\n",
    "instrument1 = GBMStock(S0=100, T=T, N=N, r=r, sigma=0.2)\n",
    "\n",
    "instruments = [instrument1] #instrument1\n",
    "contingent_claim = AsianGeometricCall(strike=100)\n",
    "\n",
    "path_transformation_configs = [\n",
    "    {'transformation_type': 'log_moneyness', 'K': contingent_claim.strike}#,\n",
    "    #{'transformation_type': None}\n",
    "]\n",
    "\n",
    "cost_function = ProportionalCost(proportion=0.0)\n",
    "risk_measure = CVaR(alpha=0.5)\n",
    "\n",
    "delta_agent = AsianDeltaHedgingAgent(instrument1, contingent_claim)\n",
    "bs_price = delta_agent.get_model_price()\n",
    "print('p:', bs_price)\n"
   ]
  }
 ],
 "metadata": {
  "kernelspec": {
   "display_name": "env",
   "language": "python",
   "name": "python3"
  },
  "language_info": {
   "codemirror_mode": {
    "name": "ipython",
    "version": 3
   },
   "file_extension": ".py",
   "mimetype": "text/x-python",
   "name": "python",
   "nbconvert_exporter": "python",
   "pygments_lexer": "ipython3",
   "version": "3.11.5"
  }
 },
 "nbformat": 4,
 "nbformat_minor": 2
}
